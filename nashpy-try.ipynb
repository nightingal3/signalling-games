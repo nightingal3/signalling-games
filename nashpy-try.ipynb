{
 "cells": [
  {
   "cell_type": "code",
   "execution_count": 7,
   "metadata": {},
   "outputs": [
    {
     "data": {
      "text/plain": [
       "Zero sum game with payoff matrices:\n",
       "\n",
       "Row player:\n",
       "[[0 1 3]\n",
       " [3 2 0]\n",
       " [1 0 1]]\n",
       "\n",
       "Column player:\n",
       "[[ 0 -1 -3]\n",
       " [-3 -2  0]\n",
       " [-1  0 -1]]"
      ]
     },
     "execution_count": 7,
     "metadata": {},
     "output_type": "execute_result"
    }
   ],
   "source": [
    "import nashpy as nash\n",
    "import numpy as np\n",
    "\n",
    "A = np.array([[0, 1, 3],\n",
    "[3, 2, 0],\n",
    "[1, 0, 1]])\n",
    "\n",
    "rps = nash.Game(A)\n",
    "rps"
   ]
  },
  {
   "cell_type": "code",
   "execution_count": null,
   "metadata": {},
   "outputs": [],
   "source": [
    "strat_1 = [1, 0, 0]\n",
    "strat_2 = [0, 0.5, 0.5]\n",
    "\n",
    "rps[strat_1, strat_2]"
   ]
  },
  {
   "cell_type": "code",
   "execution_count": 8,
   "metadata": {},
   "outputs": [
    {
     "data": {
      "text/plain": [
       "[(array([0.5, 0.5, 0. ]), array([0.5, 0. , 0.5])),\n",
       " (array([0.5, 0.5, 0. ]), array([-0.  ,  0.75,  0.25]))]"
      ]
     },
     "execution_count": 8,
     "metadata": {},
     "output_type": "execute_result"
    }
   ],
   "source": [
    "eqs = rps.support_enumeration()\n",
    "list(eqs)"
   ]
  },
  {
   "cell_type": "code",
   "execution_count": null,
   "metadata": {},
   "outputs": [],
   "source": []
  }
 ],
 "metadata": {
  "kernelspec": {
   "display_name": "Python 3",
   "language": "python",
   "name": "python3"
  },
  "language_info": {
   "codemirror_mode": {
    "name": "ipython",
    "version": 3
   },
   "file_extension": ".py",
   "mimetype": "text/x-python",
   "name": "python",
   "nbconvert_exporter": "python",
   "pygments_lexer": "ipython3",
   "version": "3.8.3"
  }
 },
 "nbformat": 4,
 "nbformat_minor": 4
}
