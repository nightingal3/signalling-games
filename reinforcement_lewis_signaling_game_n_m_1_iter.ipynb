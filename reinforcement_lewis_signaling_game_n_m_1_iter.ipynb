{
 "cells": [
  {
   "cell_type": "code",
   "execution_count": null,
   "metadata": {},
   "outputs": [],
   "source": [
    "import numpy as np\n",
    "import seaborn as sns\n",
    "from matplotlib import pyplot as plt\n",
    "from matplotlib import animation\n",
    "import imageio\n",
    "import os\n",
    "from numpy import float128\n"
   ]
  },
  {
   "cell_type": "code",
   "execution_count": null,
   "metadata": {},
   "outputs": [],
   "source": [
    "# Code based on https://tomekkorbak.com/2019/10/08/lewis-signaling-games/\n",
    "from tkinter import * \n",
    "from PIL import Image, ImageTk\n",
    "\n"
   ]
  },
  {
   "cell_type": "code",
   "execution_count": null,
   "metadata": {},
   "outputs": [],
   "source": [
    "class Sender:\n",
    "        \n",
    "    def __init__(self, n_inputs: int, n_messages: int, state_action_probs: np.ndarray = None, eps: float = 1e-6):\n",
    "        self.n_messages = n_messages\n",
    "        \n",
    "        if state_action_probs is not None:\n",
    "            self.action_weights = state_probs\n",
    "        else:\n",
    "            self.message_weights = np.zeros((n_inputs, n_messages))\n",
    "            self.message_weights.fill(eps)\n",
    "        \n",
    "        self.last_situation = (0, 0)\n",
    "        \n",
    "    def send_message(self, input: int) -> int:\n",
    "        #print(self.message_weights[input, :], np.exp(self.message_weights[input, :]))\n",
    "        probs = np.exp(self.message_weights[input, :])/np.sum(np.exp(self.message_weights[input, :]))\n",
    "        message = np.random.choice(self.n_messages, p=probs)\n",
    "        self.last_situation = (input, message)\n",
    "        return message\n",
    " \n",
    "\n",
    "    def learn_from_feedback(self, reward: int) -> None:\n",
    "        self.message_weights[self.last_situation] += (reward)"
   ]
  },
  {
   "cell_type": "code",
   "execution_count": null,
   "metadata": {},
   "outputs": [],
   "source": [
    "class Receiver:\n",
    "        \n",
    "    def __init__(self, n_messages: int, n_actions: int, state_action_probs = None, eps: float = 1e-6):\n",
    "        self.n_actions = n_actions\n",
    "        if state_action_probs is not None:\n",
    "            self.action_weights = state_probs.T\n",
    "        else:\n",
    "            self.action_weights = np.ndarray((n_messages, n_actions))\n",
    "            self.action_weights.fill(eps)\n",
    "        self.last_situation = (0, 0)\n",
    "        \n",
    "    def act(self, message: int) -> int:\n",
    "        try:\n",
    "            probs = np.exp(self.action_weights[message, :])/np.sum(np.exp(self.action_weights[message, :]))\n",
    "            action = np.random.choice(self.n_actions, p=probs)\n",
    "            self.last_situation = (message, action)\n",
    "        except:\n",
    "            return None\n",
    "        return action\n",
    "\n",
    "    def learn_from_feedback(self, reward: int) -> None:\n",
    "        self.action_weights[self.last_situation] += (reward)"
   ]
  },
  {
   "cell_type": "code",
   "execution_count": null,
   "metadata": {},
   "outputs": [],
   "source": [
    "class World:\n",
    "    def __init__(self, n_states: int, n_messages: int, state_prob_distribution: np.ndarray = None, seed: int = 1701):\n",
    "        self.n_states = n_states\n",
    "        self.state = 0\n",
    "        self.rng = np.random.RandomState(seed)\n",
    "        self.signal_costs = np.ones(n_messages)\n",
    "        self.signal_costs.fill(1)\n",
    "        #self.signal_costs = [0.75, 0.1, 0.1, 0.05]\n",
    "        \n",
    "        self.state_probs = np.ones((n_states, n_messages))\n",
    "        if state_prob_distribution is not None:\n",
    "            self.state_probs = (self.state_probs.T * state_prob_distribution).T\n",
    "\n",
    "        \n",
    "    def emit_state(self) -> int:\n",
    "        self.state = self.rng.randint(self.n_states)\n",
    "        return self.state\n",
    "    \n",
    "    def evaluate_action(self, action: int) -> int:\n",
    "        return (1) if action == self.state else (-1)\n",
    "        #return self.signal_costs[action] if action == self.state else -self.signal_costs[action]"
   ]
  },
  {
   "cell_type": "code",
   "execution_count": null,
   "metadata": {
    "scrolled": true
   },
   "outputs": [],
   "source": [
    "def train_signal(NUM_STATES : int, NUM_MESSAGES :int, STATE_PROBS : np.ndarray, epochs: np.ndarray ):\n",
    "    \"\"\"\n",
    "    Update the sender and receiver weights based on the given parameters\n",
    "    Return the sender and receiver objects\n",
    "    \"\"\"\n",
    "    \n",
    "    dir_path = '{}states_{}messages_copy'.format(NUM_STATES, NUM_MESSAGES)\n",
    "    \n",
    "    try: \n",
    "        os.mkdir(dir_path) \n",
    "    except OSError as error: \n",
    "        pass  \n",
    "    \n",
    "    sender, receiver = Sender(NUM_STATES, NUM_MESSAGES), Receiver(NUM_MESSAGES, NUM_STATES)\n",
    "    world = World(NUM_STATES, NUM_MESSAGES)\n",
    "    past_rewards = 0\n",
    "    matrices = []\n",
    "    for epoch in range(epochs):\n",
    "\n",
    "        world_state = world.emit_state()\n",
    "        message = sender.send_message(world_state)\n",
    "\n",
    "        action = receiver.act(message)\n",
    "        reward = world.evaluate_action(action)\n",
    "        receiver.learn_from_feedback(reward)\n",
    "        sender.learn_from_feedback(reward)\n",
    "        past_rewards += reward\n",
    "        if epoch % 25 == 0:\n",
    "            plt.tight_layout(pad=0)\n",
    "            plot = sns.heatmap(\n",
    "                (np.exp(receiver.action_weights.T)/np.exp(receiver.action_weights).sum(axis=1)).T, \n",
    "                square=True, cbar=False, annot=True, fmt='.2f'\n",
    "            ).get_figure()\n",
    "            plt.xlabel('actions')\n",
    "            plt.ylabel('messages')\n",
    "            plt.title(f'Receiver\\'s weights, rollout {epoch}')\n",
    "            plt.savefig(f\"{dir_path}/receiver_{epoch}_n_by_m.png\")\n",
    "            plt.clf()\n",
    "\n",
    "            plot = sns.heatmap(\n",
    "                (np.exp(sender.message_weights.T)/np.exp(sender.message_weights).sum(axis=1)).T, \n",
    "                square=True, cbar=False,annot=True, fmt='.2f'\n",
    "            ).get_figure()\n",
    "\n",
    "            plt.xlabel('messages')\n",
    "            plt.ylabel('world states')\n",
    "            plt.title(f'Sender\\'s weights, rollout {epoch}')\n",
    "            plt.savefig(f\"{dir_path}/sender_{epoch}_n_by_m.png\")\n",
    "            plt.clf()\n",
    "\n",
    "        if epoch % 100 == 0:\n",
    "            print(f'Epoch {epoch}, last 100 epochs reward: {past_rewards/100}')\n",
    "            past_rewards = 0\n",
    "\n",
    "    return sender, receiver"
   ]
  },
  {
   "cell_type": "code",
   "execution_count": null,
   "metadata": {},
   "outputs": [],
   "source": [
    "def get_game_trace(sender, receiver, num_states, num_messages):\n",
    "    sender_softmax_rec = (np.exp(receiver.action_weights.T)/np.exp(receiver.action_weights).sum(axis=1)).T\n",
    "    rec_softmax_rec = (np.exp(sender.message_weights.T)/np.exp(sender.message_weights).sum(axis=1)).T\n",
    "    mul = np.matmul(sender_softmax_rec, rec_softmax_rec)\n",
    "    return np.trace(mul)/ min(num_states, num_messages) # trace\n",
    "    "
   ]
  },
  {
   "cell_type": "code",
   "execution_count": null,
   "metadata": {},
   "outputs": [],
   "source": [
    "N = range(2,9)\n",
    "M = range(2, 9)\n",
    "epochs = [1000, 1800, 2800] # [2800, 1800, 1300, 1300]\n",
    "trace = []\n",
    "matrices = {}\n",
    "for iter in range(1):\n",
    "    i = -1\n",
    "    for num_states in N:\n",
    "        i += 1\n",
    "        for num_messages in M:\n",
    "            if (num_states,num_messages) not in matrices:\n",
    "                matrices[(num_states,num_messages)] = []\n",
    "            \n",
    "            state_probs = np.random.uniform(0, num_states, num_messages)\n",
    "            if (num_states >= 5) or (num_messages >= 5):\n",
    "                ep = 1300\n",
    "            else:\n",
    "                ep = epochs[i]\n",
    "            sender, receiver = train_signal(num_states, num_messages, state_probs, ep)\n",
    "            \n",
    "            matrices[(num_states,num_messages)] += [sender, receiver]\n",
    "            \n",
    "            trace.append([num_states, num_messages, get_game_trace(sender, receiver, num_states, num_messages)])"
   ]
  },
  {
   "cell_type": "code",
   "execution_count": null,
   "metadata": {},
   "outputs": [],
   "source": [
    "import pandas as pd\n",
    "df = pd.DataFrame(trace, columns =['num_states', 'num_messages', 'trace'])\n",
    "df['M - N'] =  df['num_messages'] - df['num_states'] "
   ]
  },
  {
   "cell_type": "code",
   "execution_count": null,
   "metadata": {},
   "outputs": [],
   "source": [
    "# # Histogram of communicative potential \n",
    "sns.lineplot(data=df, x='M - N', y='trace', marker='o')\n",
    "sns.despine()\n"
   ]
  },
  {
   "cell_type": "code",
   "execution_count": null,
   "metadata": {},
   "outputs": [],
   "source": [
    "df"
   ]
  },
  {
   "cell_type": "code",
   "execution_count": null,
   "metadata": {},
   "outputs": [],
   "source": []
  },
  {
   "cell_type": "code",
   "execution_count": null,
   "metadata": {},
   "outputs": [],
   "source": [
    "def make_gif(filename_base):\n",
    "    images = []\n",
    "    for filename in [f'{dir_path}/{filename_base}_{i}_n_by_m.png' for i in range(3000) if i % 25 == 0]:\n",
    "        images.append(imageio.imread(filename))\n",
    "    imageio.mimsave(f'{filename_base}_n_by_m.gif', images)"
   ]
  },
  {
   "cell_type": "code",
   "execution_count": null,
   "metadata": {},
   "outputs": [],
   "source": [
    "# make_gif('sender')\n",
    "# make_gif('receiver')"
   ]
  },
  {
   "cell_type": "code",
   "execution_count": null,
   "metadata": {},
   "outputs": [],
   "source": []
  },
  {
   "cell_type": "markdown",
   "metadata": {},
   "source": []
  },
  {
   "cell_type": "markdown",
   "metadata": {},
   "source": []
  },
  {
   "cell_type": "code",
   "execution_count": null,
   "metadata": {},
   "outputs": [],
   "source": [
    "x = np.array([[1,0], [0,1], [1,0], [0,1]])\n",
    "y = np.array([[0.5,0,0.5,0], [0,0.5,0,0.5]])"
   ]
  },
  {
   "cell_type": "code",
   "execution_count": null,
   "metadata": {},
   "outputs": [],
   "source": [
    "mul = np.matmul(x, y)\n",
    "np.trace(mul)/ min(4, 2)"
   ]
  },
  {
   "cell_type": "code",
   "execution_count": null,
   "metadata": {},
   "outputs": [],
   "source": []
  }
 ],
 "metadata": {
  "kernelspec": {
   "display_name": "Python 3",
   "language": "python",
   "name": "python3"
  },
  "language_info": {
   "codemirror_mode": {
    "name": "ipython",
    "version": 3
   },
   "file_extension": ".py",
   "mimetype": "text/x-python",
   "name": "python",
   "nbconvert_exporter": "python",
   "pygments_lexer": "ipython3",
   "version": "3.8.2"
  }
 },
 "nbformat": 4,
 "nbformat_minor": 2
}
