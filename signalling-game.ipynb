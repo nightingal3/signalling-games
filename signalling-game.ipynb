{
 "cells": [
  {
   "cell_type": "code",
   "execution_count": 11,
   "metadata": {},
   "outputs": [
    {
     "data": {
      "text/plain": [
       "0.36"
      ]
     },
     "execution_count": 11,
     "metadata": {},
     "output_type": "execute_result"
    }
   ],
   "source": [
    "import nashpy as nash\n",
    "import numpy as np\n",
    "from typing import Tuple\n",
    "\n",
    "NUM_EVENTS = 3\n",
    "NUM_SIGNALS = 3\n",
    "\n",
    "def generate_matrices_one_to_one(prob_distribution: np.ndarray) -> Tuple[np.ndarray, np.ndarray]:\n",
    "    \"\"\" prob_distribution: 1 x NUM_EVENTS\n",
    "        signal_costs: 1 x NUM_SIGNALS\n",
    "        sender_matrix: NUM_EVENTS x NUM_SIGNALS\n",
    "        receiver_matrix: NUM_SIGNALS x NUM_EVENTS\n",
    "    \"\"\"\n",
    "    base_sender_matrix = np.zeros((NUM_EVENTS, NUM_SIGNALS))\n",
    "    np.fill_diagonal(base_sender_matrix, 1)\n",
    "    sender_matrix =  (base_sender_matrix.T * prob_distribution).T\n",
    "    \n",
    "    receiver_matrix = np.zeros((NUM_SIGNALS, NUM_EVENTS))\n",
    "    np.fill_diagonal(receiver_matrix, 1)\n",
    "    \n",
    "    return sender_matrix, receiver_matrix\n",
    "\n",
    "def payoff(sender_matrix: np.ndarray, receiver_matrix: np.ndarray, signal_costs: np.ndarray) -> float:\n",
    "    \"\"\" sender_matrix: NUM_EVENTS x NUM_SIGNALS\n",
    "        receiver_matrix: NUM_SIGNALS x NUM_EVENTS\n",
    "        signal_costs: 1 x NUM_SIGNALS\n",
    "    \"\"\"\n",
    "    return np.trace(np.matmul(sender_matrix, receiver_matrix/signal_costs))\n",
    "\n",
    "probs = [0.8, 0.1, 0.1]\n",
    "costs = [5, 1, 1]\n",
    "s, r = generate_matrices_one_to_one(probs)\n",
    "payoff(s, r, costs)\n",
    "    "
   ]
  },
  {
   "cell_type": "code",
   "execution_count": 80,
   "metadata": {},
   "outputs": [
    {
     "name": "stderr",
     "output_type": "stream",
     "text": [
      "/root/anaconda3/lib/python3.8/site-packages/scipy/optimize/_hessian_update_strategy.py:182: UserWarning: delta_grad == 0.0. Check if the approximated function is linear. If the function is linear better results can be obtained by defining the Hessian as zero instead of using quasi-Newton approximations.\n",
      "  warn('delta_grad == 0.0. Check if the approximated '\n"
     ]
    },
    {
     "name": "stdout",
     "output_type": "stream",
     "text": [
      "succeeded?  False\n",
      "           constr: [array([0.]), array([1.11022302e-16]), array([0.]), array([0.])]\n",
      " constr_violation: 1.1102230246251565e-16\n",
      "              fun: -0.9999679464302927\n",
      "              jac: [array([[1., 1., 0., 0., 0., 0., 0., 0.]]), array([[0.        , 0.        , 1.00000001, 1.00000001, 0.        ,\n",
      "        0.        , 0.        , 0.        ]]), array([[0., 0., 0., 0., 1., 1., 0., 0.]]), array([[0., 0., 0., 0., 0., 0., 1., 1.]]), array([[1., 0., 0., 0., 0., 0., 0., 0.],\n",
      "       [0., 1., 0., 0., 0., 0., 0., 0.],\n",
      "       [0., 0., 1., 0., 0., 0., 0., 0.],\n",
      "       [0., 0., 0., 1., 0., 0., 0., 0.],\n",
      "       [0., 0., 0., 0., 1., 0., 0., 0.],\n",
      "       [0., 0., 0., 0., 0., 1., 0., 0.],\n",
      "       [0., 0., 0., 0., 0., 0., 1., 0.],\n",
      "       [0., 0., 0., 0., 0., 0., 0., 1.]])]\n",
      "            maxcv: 1.1102230246251565e-16\n",
      "          message: 'The solution does not satisfy the constraints, MAXCV = '\n",
      "             nfev: 2596\n",
      "              nit: 7120\n",
      "          success: False\n",
      "                x: array([8.64401494e-06, 9.99991356e-01, 9.99250883e-01, 7.49117335e-04,\n",
      "       7.49137884e-04, 9.99250862e-01, 9.99991394e-01, 8.60647889e-06])\n",
      "[[8.64401494e-06 9.99991356e-01]\n",
      " [9.99250883e-01 7.49117335e-04]]\n",
      "[[7.49137884e-04 9.99250862e-01]\n",
      " [9.99991394e-01 8.60647889e-06]]\n"
     ]
    }
   ],
   "source": [
    "# 2d experiment\n",
    "from scipy.optimize import minimize, differential_evolution, NonlinearConstraint\n",
    "\n",
    "# s_ij - the probability of the sender mapping event i to signal j\n",
    "# e_ji - the probability of the receiver mapping signal j to event i\n",
    "\n",
    "# vector: x = [s_11, s_12, s_21, s_22, e_11, e_21, e_12, e_22]\n",
    "GAME_SIZE = 2\n",
    "PROB_VECTOR = [0.99, 0.1]\n",
    "COST_VECTOR = [10, 1]\n",
    "# \"global\" for diff_evolution, \"local\" to find one min\n",
    "OPT_TYPE = \"global\"\n",
    "results = []\n",
    "\n",
    "\n",
    "# note this library works on minimization problems, so I write the negative of the true objective\n",
    "def objective(x: np.ndarray) -> float:\n",
    "    results.append(x)\n",
    "    return -1 * (PROB_VECTOR[0] * (1/COST_VECTOR[0]) * (x[0] * x[4]) + PROB_VECTOR[0] * (1/COST_VECTOR[1]) * (x[1] * x[6]) + \\\n",
    "PROB_VECTOR[1] * (1/COST_VECTOR[0]) * (x[2] * x[5]) + PROB_VECTOR[1] * (1/COST_VECTOR[1]) * (x[3] * x[7]))\n",
    "\n",
    "# s_11 + s_12 = 1\n",
    "def constraint_1(x: np.ndarray) -> float:\n",
    "    return x[0] + x[1] - 1\n",
    "\n",
    "# s_21 + s_22 = 1\n",
    "def constraint_2(x: np.ndarray) -> float:\n",
    "    return x[2] + x[3] - 1\n",
    "\n",
    "# e_11 + e_21 = 1\n",
    "def constraint_3(x: np.ndarray) -> float:\n",
    "    return x[4] + x[5] - 1\n",
    "\n",
    "# e_12 + e_22\n",
    "def constraint_4(x: np.ndarray) -> float:\n",
    "    return x[6] + x[7] - 1\n",
    "\n",
    "if OPT_TYPE == \"local\":\n",
    "    all_constraints = ([{\"type\": \"eq\", \"fun\": constraint_1},{\"type\": \"eq\", \"fun\": constraint_2}, {\"type\": \"eq\", \"fun\": constraint_3},\n",
    "                       {\"type\": \"eq\", \"fun\": constraint_4}])\n",
    "    x0 = np.random.uniform(low=0, high=1, size=(8,))\n",
    "    b = (0, 1)\n",
    "    bounds = tuple([b] * 8)\n",
    "    solution = minimize(objective,x0,method='SLSQP',\\\n",
    "                        bounds=bounds,constraints=all_constraints)\n",
    "    x = solution.x\n",
    "    print(x)\n",
    "\n",
    "    print('Final SSE Objective: ' + str(objective(x)))\n",
    "\n",
    "elif OPT_TYPE == \"global\":\n",
    "    constraints = ( NonlinearConstraint(constraint_1, 0, 0),\n",
    "                   NonlinearConstraint(constraint_2, 0, 0),\n",
    "                   NonlinearConstraint(constraint_3, 0, 0),\n",
    "                   NonlinearConstraint(constraint_4, 0, 0),\n",
    "                  )\n",
    "    b = (0, 1)\n",
    "    bounds = tuple([b] * 8)\n",
    "    \n",
    "    solution = differential_evolution(objective,bounds=bounds,maxiter=100000,constraints=constraints)\n",
    "    print(\"succeeded? \", solution.success)\n",
    "\n",
    "    print(solution)\n",
    "    sender_solution, receiver_solution = vector_to_matrices(solution.x)\n",
    "    print(sender_solution)\n",
    "    print(receiver_solution)\n",
    "    "
   ]
  },
  {
   "cell_type": "code",
   "execution_count": 35,
   "metadata": {},
   "outputs": [
    {
     "name": "stdout",
     "output_type": "stream",
     "text": [
      "0.55\n"
     ]
    }
   ],
   "source": [
    "sender = np.array([[0.5, 0], [0, 0.5]])\n",
    "receiver = np.array([[1, 0], [0, 1]])\n",
    "print(payoff(sender, receiver, COST_VECTOR))"
   ]
  },
  {
   "cell_type": "code",
   "execution_count": 8,
   "metadata": {},
   "outputs": [
    {
     "name": "stdout",
     "output_type": "stream",
     "text": [
      "[[0.94061072 0.95418393 0.86576032]\n",
      " [0.94991365 0.98236977 0.79031303]\n",
      " [0.49921889 0.33204653 0.16873458]]\n",
      "[[0.9514463  0.94462571 0.88657785]\n",
      " [0.91809115 0.95013013 0.79815501]\n",
      " [0.5803158  0.29586868 0.12381551]]\n"
     ]
    }
   ],
   "source": [
    "# 2d experiment\n",
    "from scipy.optimize import minimize, differential_evolution, NonlinearConstraint\n",
    "from typing import Callable, List\n",
    "import pdb\n",
    "# s_ij - the probability of the sender mapping event i to signal j\n",
    "# e_ji - the probability of the receiver mapping signal j to event i\n",
    "\n",
    "# x is of size 2n^2 and enumerates entries as [p: 11, 12, ... 1n, 21....nn, q: same]\n",
    "GAME_SIZE = 3\n",
    "# \"global\" for diff_evolution, \"local\" to find one min\n",
    "OPT_TYPE = \"global\"\n",
    "PROB_VECTOR = [0.33, 0.33, 0.33]\n",
    "COST_VECTOR = [1, 2, 3]\n",
    "\n",
    "test = np.array([[1, 2, 3], [4, 5, 6], [7, 8, 9]])\n",
    "flat_test = list(test.flatten())\n",
    "flat_test.extend(flat_test)\n",
    "\n",
    "results = []\n",
    "\n",
    "def make_objective_size_n(n: int) -> Callable:\n",
    "    def objective(x: List) -> float:\n",
    "        sender_matrix = np.array(x[:len(x)//2]).reshape(n, n)\n",
    "        receiver_matrix = np.array(x[len(x)//2:]).reshape(n, n)\n",
    "        prob_and_sender = (sender_matrix.T * PROB_VECTOR).T\n",
    "        cost_and_receiver = (receiver_matrix.T / COST_VECTOR).T\n",
    "        results.append(x)\n",
    "        \n",
    "        return -np.trace(np.matmul(sender_matrix, receiver_matrix))\n",
    "    \n",
    "    return objective\n",
    "    \n",
    "def make_2n_constraints(n: int) -> tuple:\n",
    "    constraints = []\n",
    "\n",
    "    for i in range(n):\n",
    "        con_s = lambda x: sum([x[j] for j in range(i * n, i * n + n)]) - 1\n",
    "        con_r = lambda x: sum([x[n ** 2 + j] for j in range(i * n, i * n + n)]) - 1\n",
    "        if OPT_TYPE == \"local\":\n",
    "            constraints.append({\"type\": \"eq\", \"fun\": con_s})\n",
    "            constraints.append({\"type\": \"eq\", \"fun\": con_r})\n",
    "        else:\n",
    "            constraints.append(NonlinearConstraint(con_s, 0, 0))\n",
    "            constraints.append(NonlinearConstraint(con_r, 0, 0))\n",
    "\n",
    "    return tuple(constraints)\n",
    "\n",
    "def vector_to_matrices(x: List) -> Tuple[np.ndarray, np.ndarray]:\n",
    "    sender_half = x[:len(x)//2]\n",
    "    receiver_half = x[len(x)//2:]\n",
    "    \n",
    "    return np.array(sender_half).reshape(GAME_SIZE, GAME_SIZE), np.array(receiver_half).reshape(GAME_SIZE, GAME_SIZE)\n",
    "\n",
    "constraints = make_2n_constraints(GAME_SIZE)\n",
    "objective = make_objective_size_n(GAME_SIZE)\n",
    "\n",
    "b = (0, 1)\n",
    "bounds = tuple([b] * 2 * GAME_SIZE ** 2)\n",
    "\n",
    "if OPT_TYPE == \"local\":\n",
    "    x0 = np.random.uniform(low=0, high=1, size=(2 * GAME_SIZE ** 2,))\n",
    "    solution = minimize(objective,x0,method='SLSQP',\\\n",
    "                        bounds=bounds,constraints=constraints)\n",
    "    x = solution.x\n",
    "    print(vector_to_matrices(x))\n",
    "\n",
    "    print('Final SSE Objective: ' + str(objective(x)))\n",
    "\n",
    "else:\n",
    "    solution = differential_evolution(objective,bounds=bounds,maxiter=1000,constraints=constraints)\n",
    "    sender_soln, receiver_soln = vector_to_matrices(solution.x)\n",
    "    print(sender_soln)\n",
    "    print(receiver_soln)\n",
    "\n"
   ]
  },
  {
   "cell_type": "code",
   "execution_count": 82,
   "metadata": {},
   "outputs": [
    {
     "name": "stderr",
     "output_type": "stream",
     "text": [
      "The PostScript backend does not support transparency; partially transparent artists will be rendered opaque.\n",
      "The PostScript backend does not support transparency; partially transparent artists will be rendered opaque.\n",
      "The PostScript backend does not support transparency; partially transparent artists will be rendered opaque.\n",
      "The PostScript backend does not support transparency; partially transparent artists will be rendered opaque.\n"
     ]
    },
    {
     "data": {
      "image/png": "[encoded data removed]",
      "text/plain": [
       "<Figure size 432x288 with 4 Axes>"
      ]
     },
     "metadata": {
      "needs_background": "light"
     },
     "output_type": "display_data"
    }
   ],
   "source": [
    "import matplotlib.pyplot as plt\n",
    "from matplotlib.lines import Line2D\n",
    "\n",
    "import pandas as pd\n",
    "import seaborn as sns\n",
    "\n",
    "# simulations:\n",
    "# 1. equal probabilities, equal costs [x]\n",
    "# 2. equal probabilities, 10fold difference in costs [x]\n",
    "# 3. equal probabilities, 50fold difference in costs [x]\n",
    "# 4. unequal probabilities (80/20?), equal costs [x]\n",
    "# 5. unequal probabilities (90/10), equal costs [x]\n",
    "# 6. unequal probabilities (99/1), equal costs [x]\n",
    "# 7. unequal probabilities (80/20), unequal costs (1/10) [x]\n",
    "# 8. unequal probabilities (90/10), unequal costs (1/10) [x]\n",
    "# 9. unequal probabilities (99/1), unequal costs (1/10) [didn't converge]\n",
    "\n",
    "def show_evolution_over_time(df: pd.DataFrame) -> None:\n",
    "    fig, axs = plt.subplots(ncols=2, nrows=2)\n",
    "\n",
    "    state_lines = [Line2D([0], [0], color=\"blue\", lw=2),\n",
    "                Line2D([0], [0], color=\"orange\", lw=2)]\n",
    "    signal_lines = [Line2D([0], [0], color=\"purple\", lw=2),\n",
    "                Line2D([0], [0], color=\"green\", lw=2)]\n",
    "    \n",
    "    sns.lineplot(data=df[\"state_1->signal_1\"], dashes=False, ax=axs[0,0], color=\"blue\")\n",
    "    sns.lineplot(data=df[\"state_1->signal_2\"], dashes=False, ax=axs[0,0], color=\"orange\")\n",
    "    axs[0,0].set_title(\"Sender strategy: state 1\")\n",
    "    \n",
    "    sns.lineplot(data=df[\"state_2->signal_1\"], dashes=False, ax=axs[0, 1], color=\"blue\")\n",
    "    sns.lineplot(data=df[\"state_2->signal_2\"], dashes=False, ax=axs[0, 1], color=\"orange\")\n",
    "    axs[0,1].legend(state_lines, [\"signal 1\", \"signal 2\"], bbox_to_anchor=(1.05, 1), loc='upper left')\n",
    "    axs[0,1].set_title(\"Sender strategy: state 2\")\n",
    "\n",
    "    sns.lineplot(data=df[\"signal_1->state_1\"], dashes=False, ax=axs[1,0], color=\"purple\")\n",
    "    sns.lineplot(data=df[\"signal_1->state_2\"], dashes=False, ax=axs[1,0], color=\"green\")\n",
    "    axs[1, 0].set_title(\"Receiver strategy: signal 1\")\n",
    "    \n",
    "    sns.lineplot(data=df[\"signal_2->state_1\"], dashes=False, ax=axs[1, 1], color=\"purple\")\n",
    "    sns.lineplot(data=df[\"signal_2->state_2\"], dashes=False, ax=axs[1, 1], color=\"green\")\n",
    "    axs[1,1].legend(signal_lines, [\"state 1\", \"state 2\"], bbox_to_anchor=(1.05, 1), loc='upper left')\n",
    "\n",
    "    axs[1, 1].set_title(\"Receiver strategy: signal 2\")\n",
    "    \n",
    "    plt.tight_layout()\n",
    "    plt.savefig(\"trial_9.eps\")\n",
    "    plt.savefig(\"trial_9.png\")\n",
    "  \n",
    "\n",
    "df = pd.DataFrame(results, columns=[\"state_1->signal_1\", \"state_1->signal_2\", \"state_2->signal_1\", \"state_2->signal_2\", \n",
    "                                       \"signal_1->state_1\", \"signal_1->state_2\", \"signal_2->state_1\", \"signal_2->state_2\"])\n",
    "df.to_csv(\"trial_9.csv\", index=False)\n",
    "show_evolution_over_time(df)\n",
    "    \n",
    "    "
   ]
  },
  {
   "cell_type": "code",
   "execution_count": null,
   "metadata": {},
   "outputs": [],
   "source": []
  }
 ],
 "metadata": {
  "kernelspec": {
   "display_name": "Python 3",
   "language": "python",
   "name": "python3"
  },
  "language_info": {
   "codemirror_mode": {
    "name": "ipython",
    "version": 3
   },
   "file_extension": ".py",
   "mimetype": "text/x-python",
   "name": "python",
   "nbconvert_exporter": "python",
   "pygments_lexer": "ipython3",
   "version": "3.8.3"
  }
 },
 "nbformat": 4,
 "nbformat_minor": 4
}
