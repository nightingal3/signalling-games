{
 "cells": [
  {
   "cell_type": "code",
   "execution_count": 20,
   "metadata": {},
   "outputs": [
    {
     "data": {
      "text/plain": [
       "1.0"
      ]
     },
     "execution_count": 20,
     "metadata": {},
     "output_type": "execute_result"
    }
   ],
   "source": [
    "import nashpy as nash\n",
    "import numpy as np\n",
    "from typing import Tuple\n",
    "\n",
    "NUM_EVENTS = 3\n",
    "NUM_SIGNALS = 3\n",
    "\n",
    "def generate_matrices_one_to_one(prob_distribution: np.ndarray) -> Tuple[np.ndarray, np.ndarray]:\n",
    "    \"\"\" prob_distribution: 1 x NUM_EVENTS\n",
    "        signal_costs: 1 x NUM_SIGNALS\n",
    "        sender_matrix: NUM_EVENTS x NUM_SIGNALS\n",
    "        receiver_matrix: NUM_SIGNALS x NUM_EVENTS\n",
    "    \"\"\"\n",
    "    base_sender_matrix = np.zeros((NUM_EVENTS, NUM_SIGNALS))\n",
    "    np.fill_diagonal(base_sender_matrix, 1)\n",
    "    sender_matrix =  (base_sender_matrix.T * prob_distribution).T\n",
    "    \n",
    "    receiver_matrix = np.zeros((NUM_SIGNALS, NUM_EVENTS))\n",
    "    np.fill_diagonal(receiver_matrix, 1)\n",
    "    \n",
    "    return sender_matrix, receiver_matrix\n",
    "\n",
    "def payoff(sender_matrix: np.ndarray, receiver_matrix: np.ndarray, signal_costs: np.ndarray) -> float:\n",
    "    \"\"\" sender_matrix: NUM_EVENTS x NUM_SIGNALS\n",
    "        receiver_matrix: NUM_SIGNALS x NUM_EVENTS\n",
    "        signal_costs: 1 x NUM_SIGNALS\n",
    "    \"\"\"\n",
    "    return np.trace(np.matmul(sender_matrix, receiver_matrix/signal_costs))\n",
    "\n",
    "probs = [0.8, 0.1, 0.1]\n",
    "costs = [5, 1, 1]\n",
    "s, r = generate_matrices_one_to_one(probs)\n",
    "payoff(s, r, costs)\n",
    "    "
   ]
  },
  {
   "cell_type": "code",
   "execution_count": null,
   "metadata": {},
   "outputs": [],
   "source": []
  }
 ],
 "metadata": {
  "kernelspec": {
   "display_name": "Python 3",
   "language": "python",
   "name": "python3"
  },
  "language_info": {
   "codemirror_mode": {
    "name": "ipython",
    "version": 3
   },
   "file_extension": ".py",
   "mimetype": "text/x-python",
   "name": "python",
   "nbconvert_exporter": "python",
   "pygments_lexer": "ipython3",
   "version": "3.8.3"
  }
 },
 "nbformat": 4,
 "nbformat_minor": 4
}
