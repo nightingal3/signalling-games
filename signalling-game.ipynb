{
 "cells": [
  {
   "cell_type": "code",
   "execution_count": 1,
   "metadata": {},
   "outputs": [
    {
     "data": {
      "text/plain": [
       "0.36"
      ]
     },
     "execution_count": 1,
     "metadata": {},
     "output_type": "execute_result"
    }
   ],
   "source": [
    "import nashpy as nash\n",
    "import numpy as np\n",
    "from typing import Tuple\n",
    "\n",
    "NUM_EVENTS = 3\n",
    "NUM_SIGNALS = 3\n",
    "\n",
    "def generate_matrices_one_to_one(prob_distribution: np.ndarray) -> Tuple[np.ndarray, np.ndarray]:\n",
    "    \"\"\" prob_distribution: 1 x NUM_EVENTS\n",
    "        signal_costs: 1 x NUM_SIGNALS\n",
    "        sender_matrix: NUM_EVENTS x NUM_SIGNALS\n",
    "        receiver_matrix: NUM_SIGNALS x NUM_EVENTS\n",
    "    \"\"\"\n",
    "    base_sender_matrix = np.zeros((NUM_EVENTS, NUM_SIGNALS))\n",
    "    np.fill_diagonal(base_sender_matrix, 1)\n",
    "    sender_matrix =  (base_sender_matrix.T * prob_distribution).T\n",
    "    \n",
    "    receiver_matrix = np.zeros((NUM_SIGNALS, NUM_EVENTS))\n",
    "    np.fill_diagonal(receiver_matrix, 1)\n",
    "    \n",
    "    return sender_matrix, receiver_matrix\n",
    "\n",
    "def payoff(sender_matrix: np.ndarray, receiver_matrix: np.ndarray, signal_costs: np.ndarray) -> float:\n",
    "    \"\"\" sender_matrix: NUM_EVENTS x NUM_SIGNALS\n",
    "        receiver_matrix: NUM_SIGNALS x NUM_EVENTS\n",
    "        signal_costs: 1 x NUM_SIGNALS\n",
    "    \"\"\"\n",
    "    return np.trace(np.matmul(sender_matrix, receiver_matrix/signal_costs))\n",
    "\n",
    "probs = [0.8, 0.1, 0.1]\n",
    "costs = [5, 1, 1]\n",
    "s, r = generate_matrices_one_to_one(probs)\n",
    "payoff(s, r, costs)\n",
    "    "
   ]
  },
  {
   "cell_type": "code",
   "execution_count": 77,
   "metadata": {},
   "outputs": [
    {
     "name": "stdout",
     "output_type": "stream",
     "text": [
      "           constr: [array([0.]), array([0.]), array([0.]), array([0.])]\n",
      " constr_violation: 0.0\n",
      "              fun: -0.8986265304677151\n",
      "            maxcv: 0.0\n",
      "          message: 'Optimization terminated successfully.'\n",
      "             nfev: 10237\n",
      "              nit: 7327\n",
      "          success: True\n",
      "                x: array([3.35615246e-04, 9.99664385e-01, 9.97441430e-01, 2.55856987e-03,\n",
      "       5.13045565e-03, 9.94869544e-01, 9.99577103e-01, 4.22896868e-04])\n"
     ]
    }
   ],
   "source": [
    "# 2d experiment\n",
    "from scipy.optimize import minimize, differential_evolution, NonlinearConstraint\n",
    "\n",
    "# s_ij - the probability of the sender mapping event i to signal j\n",
    "# e_ji - the probability of the receiver mapping signal j to event i\n",
    "\n",
    "# vector: x = [s_11, s_12, s_21, s_22, e_11, e_21, e_12, e_22]\n",
    "PROB_VECTOR = [0.8, 0.5]\n",
    "COST_VECTOR = [5, 1]\n",
    "# \"global\" for diff_evolution, \"local\" to find one min\n",
    "OPT_TYPE = \"global\"\n",
    "\n",
    "# note this library works on minimization problems, so I write the negative of the true objective\n",
    "def objective(x: np.ndarray) -> float:\n",
    "    return -1 * (PROB_VECTOR[0] * (1/COST_VECTOR[0]) * (x[0] * x[4]) + PROB_VECTOR[0] * (1/COST_VECTOR[1]) * (x[1] * x[6]) + \\\n",
    "PROB_VECTOR[1] * (1/COST_VECTOR[0]) * (x[2] * x[5]) + PROB_VECTOR[1] * (1/COST_VECTOR[1]) * (x[3] * x[7]))\n",
    "\n",
    "# s_11 + s_12 = 1\n",
    "def constraint_1(x: np.ndarray) -> float:\n",
    "    return x[0] + x[1] - 1\n",
    "\n",
    "# s_21 + s_22 = 1\n",
    "def constraint_2(x: np.ndarray) -> float:\n",
    "    return x[2] + x[3] - 1\n",
    "\n",
    "# e_11 + e_21 = 1\n",
    "def constraint_3(x: np.ndarray) -> float:\n",
    "    return x[4] + x[5] - 1\n",
    "\n",
    "# e_12 + e_22\n",
    "def constraint_4(x: np.ndarray) -> float:\n",
    "    return x[6] + x[7] - 1\n",
    "\n",
    "if OPT_TYPE == \"local\":\n",
    "    all_constraints = ([{\"type\": \"eq\", \"fun\": constraint_1},{\"type\": \"eq\", \"fun\": constraint_2}, {\"type\": \"eq\", \"fun\": constraint_3},\n",
    "                       {\"type\": \"eq\", \"fun\": constraint_4}])\n",
    "    x0 = np.random.uniform(low=0, high=1, size=(8,))\n",
    "    b = (0, 1)\n",
    "    bounds = tuple([b] * 8)\n",
    "    solution = minimize(objective,x0,method='SLSQP',\\\n",
    "                        bounds=bounds,constraints=all_constraints)\n",
    "    x = solution.x\n",
    "    print(x)\n",
    "\n",
    "    print('Final SSE Objective: ' + str(objective(x)))\n",
    "\n",
    "elif OPT_TYPE == \"global\":\n",
    "    constraints = ( NonlinearConstraint(constraint_1, 0, 0),\n",
    "                   NonlinearConstraint(constraint_2, 0, 0),\n",
    "                   NonlinearConstraint(constraint_3, 0, 0),\n",
    "                   NonlinearConstraint(constraint_4, 0, 0),\n",
    "                  )\n",
    "    \n",
    "    solution = differential_evolution(objective,bounds=bounds,workers=-1,maxiter=10000,constraints=constraints)\n",
    "    print(solution)"
   ]
  },
  {
   "cell_type": "code",
   "execution_count": 35,
   "metadata": {},
   "outputs": [
    {
     "name": "stdout",
     "output_type": "stream",
     "text": [
      "0.55\n"
     ]
    }
   ],
   "source": [
    "sender = np.array([[0.5, 0], [0, 0.5]])\n",
    "receiver = np.array([[1, 0], [0, 1]])\n",
    "print(payoff(sender, receiver, COST_VECTOR))"
   ]
  },
  {
   "cell_type": "code",
   "execution_count": null,
   "metadata": {},
   "outputs": [],
   "source": []
  }
 ],
 "metadata": {
  "kernelspec": {
   "display_name": "Python 3",
   "language": "python",
   "name": "python3"
  },
  "language_info": {
   "codemirror_mode": {
    "name": "ipython",
    "version": 3
   },
   "file_extension": ".py",
   "mimetype": "text/x-python",
   "name": "python",
   "nbconvert_exporter": "python",
   "pygments_lexer": "ipython3",
   "version": "3.8.2"
  }
 },
 "nbformat": 4,
 "nbformat_minor": 4
}
